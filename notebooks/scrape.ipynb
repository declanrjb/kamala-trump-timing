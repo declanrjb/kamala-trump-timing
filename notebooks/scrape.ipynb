{
 "cells": [
  {
   "cell_type": "code",
   "execution_count": 135,
   "metadata": {},
   "outputs": [],
   "source": [
    "import requests\n",
    "import json\n",
    "import os\n",
    "import pandas as pd\n",
    "import shutil\n",
    "from bs4 import BeautifulSoup"
   ]
  },
  {
   "cell_type": "code",
   "execution_count": 70,
   "metadata": {},
   "outputs": [],
   "source": [
    "# scraping\n",
    "ids_to_scrape = [113009062564109638,113009132396502015,113009893061956633,113013201864537613,113015097117461479]"
   ]
  },
  {
   "cell_type": "code",
   "execution_count": 110,
   "metadata": {},
   "outputs": [],
   "source": [
    "def fetch_posts(max_id):\n",
    "    cookies = {\n",
    "        '__cflb': '0H28vTPqhjwKvpvovPffsJ3cyNVudUuwhqw854QkRoV',\n",
    "        '__cf_bm': 'yc3dJp_Owcxx8TliDBQO9jOj63HF5qUcxTkzmCppWcw-1724790574-1.0.1.1-MagjG2kesFhENJcJWtQ1JLBUJ.2nrUFkwnE3l6vzsSXqtc_zzozNKeXmVJad1fTtC14.Hji4Pzw1MkuYAg3fjA',\n",
    "        '_cfuvid': '4U4YzdUV7VAIxlbNL16Ly0ttJrEjXdjZghgZC9.PGH0-1724789320601-0.0.1.1-604800000',\n",
    "        '_tq_id.TV-5427368145-1.4081': 'f62a0df10e808ce7.1724789321.0.1724790588..',\n",
    "        'mp_15c0cd079bcfa80cd935f3a1b8606b48_mixpanel': '%7B%22distinct_id%22%3A%20%2219195746ceaa4f-047fa0e479f65c-42272e3d-1fa400-19195746ceb138a%22%2C%22%24device_id%22%3A%20%2219195746ceaa4f-047fa0e479f65c-42272e3d-1fa400-19195746ceb138a%22%2C%22%24search_engine%22%3A%20%22google%22%2C%22%24initial_referrer%22%3A%20%22https%3A%2F%2Fwww.google.com%2F%22%2C%22%24initial_referring_domain%22%3A%20%22www.google.com%22%7D',\n",
    "    }\n",
    "\n",
    "    headers = {\n",
    "        'User-Agent': 'Mozilla/5.0 (Macintosh; Intel Mac OS X 10.15; rv:129.0) Gecko/20100101 Firefox/129.0',\n",
    "        'Accept': 'application/json, text/plain, */*',\n",
    "        'Accept-Language': 'en-US,en;q=0.5',\n",
    "        # 'Accept-Encoding': 'gzip, deflate, br, zstd',\n",
    "        'Referer': 'https://truthsocial.com/@realDonaldTrump',\n",
    "        'Sec-Fetch-Dest': 'empty',\n",
    "        'Sec-Fetch-Mode': 'cors',\n",
    "        'Sec-Fetch-Site': 'same-origin',\n",
    "        'Connection': 'keep-alive'\n",
    "    }\n",
    "\n",
    "    params = {\n",
    "        'exclude_replies': 'true',\n",
    "        'with_muted': 'true',\n",
    "        'max_id':max_id\n",
    "    }\n",
    "\n",
    "    response = requests.get(\n",
    "        'https://truthsocial.com/api/v1/accounts/107780257626128497/statuses',\n",
    "        params=params,\n",
    "        cookies=cookies,\n",
    "        headers=headers,\n",
    "    )\n",
    "\n",
    "    return response.json()\n",
    "\n",
    "def download_image(url,out_path):\n",
    "    response = requests.get(url, stream=True)\n",
    "    with open(out_path, 'wb') as out_file:\n",
    "        shutil.copyfileobj(response.raw, out_file)\n",
    "    del response"
   ]
  },
  {
   "cell_type": "code",
   "execution_count": 72,
   "metadata": {},
   "outputs": [],
   "source": [
    "for id in ids_to_scrape:\n",
    "    data = fetch_posts(id)\n",
    "    with open('truth-social_receipts/' + str(id) + '.json','w') as out_file:\n",
    "        json.dump(data,out_file)"
   ]
  },
  {
   "cell_type": "code",
   "execution_count": 128,
   "metadata": {},
   "outputs": [],
   "source": [
    "# analyzing\n",
    "receipts = ['truth-social_receipts/' + file for file in os.listdir('truth-social_receipts')]"
   ]
  },
  {
   "cell_type": "code",
   "execution_count": 129,
   "metadata": {},
   "outputs": [],
   "source": [
    "data_chunks = []\n",
    "for receipt in receipts:\n",
    "    with open(receipt,'r') as in_file:\n",
    "        data_chunks.append(json.load(in_file))"
   ]
  },
  {
   "cell_type": "code",
   "execution_count": 130,
   "metadata": {},
   "outputs": [],
   "source": [
    "df = pd.concat([pd.DataFrame(data) for data in data_chunks])"
   ]
  },
  {
   "cell_type": "code",
   "execution_count": 131,
   "metadata": {},
   "outputs": [],
   "source": [
    "\n",
    "df = df[['id','created_at','in_reply_to_id','quote_id','url','content','media_attachments','replies_count','reblogs_count','favourites_count']]"
   ]
  },
  {
   "cell_type": "code",
   "execution_count": 132,
   "metadata": {},
   "outputs": [],
   "source": [
    "df.reset_index(inplace=True,drop=True)"
   ]
  },
  {
   "cell_type": "code",
   "execution_count": 133,
   "metadata": {},
   "outputs": [],
   "source": [
    "# for media_entry in df['media_attachments']:\n",
    "#     if len(media_entry) > 0:\n",
    "#         media = media_entry[0]\n",
    "#         if media['type'] == 'image':\n",
    "#             download_image(media['url'],'media/' + media['id'] + '.jpg')\n",
    "#         else:\n",
    "#             download_image(media['url'],'media/' + media['id'] + '.mp4')"
   ]
  },
  {
   "cell_type": "code",
   "execution_count": 159,
   "metadata": {},
   "outputs": [],
   "source": [
    "df['text_content'] = df['content'].apply(lambda x: BeautifulSoup(x).get_text())"
   ]
  },
  {
   "cell_type": "code",
   "execution_count": 161,
   "metadata": {},
   "outputs": [],
   "source": [
    "df.to_csv('trump-posts.csv',index=False)"
   ]
  }
 ],
 "metadata": {
  "kernelspec": {
   "display_name": "Python 3",
   "language": "python",
   "name": "python3"
  },
  "language_info": {
   "codemirror_mode": {
    "name": "ipython",
    "version": 3
   },
   "file_extension": ".py",
   "mimetype": "text/x-python",
   "name": "python",
   "nbconvert_exporter": "python",
   "pygments_lexer": "ipython3",
   "version": "3.11.8"
  }
 },
 "nbformat": 4,
 "nbformat_minor": 2
}
